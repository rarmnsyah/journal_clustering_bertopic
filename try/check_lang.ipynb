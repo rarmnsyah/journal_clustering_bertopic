{
 "cells": [
  {
   "cell_type": "code",
   "execution_count": 1,
   "metadata": {},
   "outputs": [],
   "source": [
    "import pandas as pd\n",
    "import os\n",
    "import sys\n",
    "\n",
    "module_path = os.path.abspath(os.path.join('..'))\n",
    "if module_path not in sys.path:\n",
    "    sys.path.append(module_path)"
   ]
  },
  {
   "cell_type": "code",
   "execution_count": 2,
   "metadata": {},
   "outputs": [
    {
     "name": "stdout",
     "output_type": "stream",
     "text": [
      "apa yang kamu pikirkan tentang ini?\n"
     ]
    }
   ],
   "source": [
    "from text_processing.check_lang import *"
   ]
  },
  {
   "cell_type": "code",
   "execution_count": 3,
   "metadata": {},
   "outputs": [
    {
     "data": {
      "text/html": [
       "<div>\n",
       "<style scoped>\n",
       "    .dataframe tbody tr th:only-of-type {\n",
       "        vertical-align: middle;\n",
       "    }\n",
       "\n",
       "    .dataframe tbody tr th {\n",
       "        vertical-align: top;\n",
       "    }\n",
       "\n",
       "    .dataframe thead th {\n",
       "        text-align: right;\n",
       "    }\n",
       "</style>\n",
       "<table border=\"1\" class=\"dataframe\">\n",
       "  <thead>\n",
       "    <tr style=\"text-align: right;\">\n",
       "      <th></th>\n",
       "      <th>jid</th>\n",
       "      <th>aid</th>\n",
       "      <th>date</th>\n",
       "      <th>title</th>\n",
       "      <th>desc</th>\n",
       "      <th>detected_abs_lang</th>\n",
       "    </tr>\n",
       "  </thead>\n",
       "  <tbody>\n",
       "    <tr>\n",
       "      <th>0</th>\n",
       "      <td>32198</td>\n",
       "      <td>oai:ojs.pkp.sfu.ca:article/423</td>\n",
       "      <td>2022-11-17</td>\n",
       "      <td>Analysis Health Determinants on the Event of G...</td>\n",
       "      <td>Gestational hypertension is one of the conditi...</td>\n",
       "      <td>en</td>\n",
       "    </tr>\n",
       "    <tr>\n",
       "      <th>1</th>\n",
       "      <td>34346</td>\n",
       "      <td>oai:ojs.pkp.sfu.ca:article/45</td>\n",
       "      <td>2019-07-25</td>\n",
       "      <td>MEDIA SOSIAL SEBAGAI ALTERNATIF PENYIMPANAN AR...</td>\n",
       "      <td>This paper focuses on personal digital records...</td>\n",
       "      <td>en</td>\n",
       "    </tr>\n",
       "    <tr>\n",
       "      <th>2</th>\n",
       "      <td>29457</td>\n",
       "      <td>oai:ojs2.jurnal.institutsunandoe.ac.id:article...</td>\n",
       "      <td>2023-03-02</td>\n",
       "      <td>The Influence of Company Internal and External...</td>\n",
       "      <td>This study aims to analyze the effect of profi...</td>\n",
       "      <td>en</td>\n",
       "    </tr>\n",
       "    <tr>\n",
       "      <th>3</th>\n",
       "      <td>12522</td>\n",
       "      <td>oai:ojs.journal.um-surabaya.ac.id:article/17872</td>\n",
       "      <td>2023-01-31</td>\n",
       "      <td>EFEKTIFITAS TERAPI AKUPRESUR PADA TITIK SP 6 (...</td>\n",
       "      <td>Objective: to explain the effectivity of acupr...</td>\n",
       "      <td>en</td>\n",
       "    </tr>\n",
       "    <tr>\n",
       "      <th>4</th>\n",
       "      <td>199</td>\n",
       "      <td>oai:ojs.journal.ipb.ac.id:article/29814</td>\n",
       "      <td>2020-11-09</td>\n",
       "      <td>A Research Protocol of Hands-On Healthy Meal P...</td>\n",
       "      <td>The objective of this paper is to describe the...</td>\n",
       "      <td>en</td>\n",
       "    </tr>\n",
       "    <tr>\n",
       "      <th>...</th>\n",
       "      <td>...</td>\n",
       "      <td>...</td>\n",
       "      <td>...</td>\n",
       "      <td>...</td>\n",
       "      <td>...</td>\n",
       "      <td>...</td>\n",
       "    </tr>\n",
       "    <tr>\n",
       "      <th>1074</th>\n",
       "      <td>146</td>\n",
       "      <td>oai:ojs.www.iaescore.com:article/7511</td>\n",
       "      <td>2017-06-01</td>\n",
       "      <td>Embroidery Leaf Shape Dipole Antenna Performan...</td>\n",
       "      <td>In this paper, leaf shape textile antenna in I...</td>\n",
       "      <td>en</td>\n",
       "    </tr>\n",
       "    <tr>\n",
       "      <th>1075</th>\n",
       "      <td>8373</td>\n",
       "      <td>oai:jurnal.unej.ac.id:article/2853</td>\n",
       "      <td>2015-06-30</td>\n",
       "      <td>ANALISA KEBUTUHAN FASILITAS PENYEBERANGAN JALA...</td>\n",
       "      <td>This study discusses about the road crossing f...</td>\n",
       "      <td>en</td>\n",
       "    </tr>\n",
       "    <tr>\n",
       "      <th>1076</th>\n",
       "      <td>13154</td>\n",
       "      <td>oai:ojs.jurnal.univrab.ac.id:article/82</td>\n",
       "      <td>2017-01-12</td>\n",
       "      <td>HUBUNGAN MOTIVASI DENGAN LAMANYA MASA TUNGGU K...</td>\n",
       "      <td>Work motivation is defined as the strength, en...</td>\n",
       "      <td>en</td>\n",
       "    </tr>\n",
       "    <tr>\n",
       "      <th>1077</th>\n",
       "      <td>4283</td>\n",
       "      <td>oai:ojs.e-journal.stie-aub.ac.id:article/514</td>\n",
       "      <td>2020-02-14</td>\n",
       "      <td>NIAT PENGGUNAAN APLIKASI E-PATIENT: EFEK INFOR...</td>\n",
       "      <td>This study aims to examine the role of informa...</td>\n",
       "      <td>en</td>\n",
       "    </tr>\n",
       "    <tr>\n",
       "      <th>1078</th>\n",
       "      <td>18193</td>\n",
       "      <td>oai:ojs.pkp.sfu.ca:article/18021</td>\n",
       "      <td>2021-12-29</td>\n",
       "      <td>MUTASI KERJA DALAM SATU GRUP PERUSAHAAN. STUDI...</td>\n",
       "      <td>Humans in life have many needs that must be me...</td>\n",
       "      <td>en</td>\n",
       "    </tr>\n",
       "  </tbody>\n",
       "</table>\n",
       "<p>1079 rows × 6 columns</p>\n",
       "</div>"
      ],
      "text/plain": [
       "        jid                                                aid        date  \\\n",
       "0     32198                     oai:ojs.pkp.sfu.ca:article/423  2022-11-17   \n",
       "1     34346                      oai:ojs.pkp.sfu.ca:article/45  2019-07-25   \n",
       "2     29457  oai:ojs2.jurnal.institutsunandoe.ac.id:article...  2023-03-02   \n",
       "3     12522    oai:ojs.journal.um-surabaya.ac.id:article/17872  2023-01-31   \n",
       "4       199            oai:ojs.journal.ipb.ac.id:article/29814  2020-11-09   \n",
       "...     ...                                                ...         ...   \n",
       "1074    146              oai:ojs.www.iaescore.com:article/7511  2017-06-01   \n",
       "1075   8373                 oai:jurnal.unej.ac.id:article/2853  2015-06-30   \n",
       "1076  13154            oai:ojs.jurnal.univrab.ac.id:article/82  2017-01-12   \n",
       "1077   4283       oai:ojs.e-journal.stie-aub.ac.id:article/514  2020-02-14   \n",
       "1078  18193                   oai:ojs.pkp.sfu.ca:article/18021  2021-12-29   \n",
       "\n",
       "                                                  title  \\\n",
       "0     Analysis Health Determinants on the Event of G...   \n",
       "1     MEDIA SOSIAL SEBAGAI ALTERNATIF PENYIMPANAN AR...   \n",
       "2     The Influence of Company Internal and External...   \n",
       "3     EFEKTIFITAS TERAPI AKUPRESUR PADA TITIK SP 6 (...   \n",
       "4     A Research Protocol of Hands-On Healthy Meal P...   \n",
       "...                                                 ...   \n",
       "1074  Embroidery Leaf Shape Dipole Antenna Performan...   \n",
       "1075  ANALISA KEBUTUHAN FASILITAS PENYEBERANGAN JALA...   \n",
       "1076  HUBUNGAN MOTIVASI DENGAN LAMANYA MASA TUNGGU K...   \n",
       "1077  NIAT PENGGUNAAN APLIKASI E-PATIENT: EFEK INFOR...   \n",
       "1078  MUTASI KERJA DALAM SATU GRUP PERUSAHAAN. STUDI...   \n",
       "\n",
       "                                                   desc detected_abs_lang  \n",
       "0     Gestational hypertension is one of the conditi...                en  \n",
       "1     This paper focuses on personal digital records...                en  \n",
       "2     This study aims to analyze the effect of profi...                en  \n",
       "3     Objective: to explain the effectivity of acupr...                en  \n",
       "4     The objective of this paper is to describe the...                en  \n",
       "...                                                 ...               ...  \n",
       "1074  In this paper, leaf shape textile antenna in I...                en  \n",
       "1075  This study discusses about the road crossing f...                en  \n",
       "1076  Work motivation is defined as the strength, en...                en  \n",
       "1077  This study aims to examine the role of informa...                en  \n",
       "1078  Humans in life have many needs that must be me...                en  \n",
       "\n",
       "[1079 rows x 6 columns]"
      ]
     },
     "execution_count": 3,
     "metadata": {},
     "output_type": "execute_result"
    }
   ],
   "source": [
    "docs = pd.read_csv('../dataset/sample_text_en.csv')\n",
    "docs"
   ]
  },
  {
   "cell_type": "code",
   "execution_count": 4,
   "metadata": {},
   "outputs": [
    {
     "data": {
      "text/plain": [
       "'Hipertensi gestasional merupakan salah satu kondisi yang dapat timbul selama kehamilan dan dapat menimbulkan komplikasi yang lebih serius. Kejang atau eklampsia, pendarahan otak, edema paru (cairan di paru-paru), gagal ginjal mendadak, dan pembekuan darah di pembuluh darah merupakan kemungkinan komplikasi hipertensi pada kehamilan. Penelitian ini mencoba untuk mengetahui faktor-faktor yang mempengaruhi risiko hipertensi gestasional. Pertambahan berat badan, pola tidur, dan kebiasaan makan merupakan variabel yang diperkirakan mempunyai pengaruh besar terhadap hipertensi gestasional. Alat uji yang digunakan adalah regresi logistik dan metode penelitian yang digunakan adalah deskriptif kuantitatif. Penelitian ini melibatkan 103 ibu hamil trimester ketiga di Klinik Bersalin Budi Asih, Turen - Malang. Hasil penelitian menunjukkan pertambahan berat badan memperoleh nilai Sig sebesar 0,016 kurang dari batas minimum 0,05 yang menunjukkan bahwa pertambahan berat badan berpengaruh signifikan terhadap hipertensi gestasional. Pola tidur mempunyai nilai Sig sebesar 0,006 yang kurang dari ambang batas 0,05 yang menunjukkan bahwa lama tidur mempunyai pengaruh yang cukup besar terhadap hipertensi gestasional. Variabel terakhir yaitu kebiasaan makan mempunyai nilai s Sig sebesar 0,034 lebih besar dari ambang batas 0,05 yang menunjukkan bahwa kebiasaan makan mempunyai pengaruh yang signifikan terhadap hipertensi gestasional. Nilai Chi Square sebesar 28,678 dengan tingkat signifikansi 0,001 menunjukkan bahwa seluruh variabel independen penelitian ini mempunyai pengaruh yang signifikan terhadap hipertensi gestasional.'"
      ]
     },
     "execution_count": 4,
     "metadata": {},
     "output_type": "execute_result"
    }
   ],
   "source": [
    "text = docs.desc[0]\n",
    "translated = en_to_id(text)\n",
    "translated"
   ]
  },
  {
   "cell_type": "code",
   "execution_count": null,
   "metadata": {},
   "outputs": [],
   "source": [
    "bodied_df = pd.read_csv('dataset/bodied_articles.csv', sep = '|')\n",
    "bodied_df"
   ]
  },
  {
   "cell_type": "code",
   "execution_count": null,
   "metadata": {},
   "outputs": [],
   "source": [
    "bodied_df[bodied_df.desc.isnull() == True]"
   ]
  },
  {
   "cell_type": "code",
   "execution_count": null,
   "metadata": {},
   "outputs": [],
   "source": [
    "pattern_multilang = '([^a-zA-Z0-9_])*(Abstract|Abstrak)([^a-zA-Z0-9_])*'\n",
    "pattern_noise = ''"
   ]
  },
  {
   "cell_type": "code",
   "execution_count": null,
   "metadata": {},
   "outputs": [],
   "source": [
    "import re\n",
    "\n",
    "def check_multilang(text):\n",
    "    return re.search('([^a-zA-Z0-9_])+(Abstract|Abstrak)([^a-zA-Z0-9_])*', text) != None"
   ]
  },
  {
   "cell_type": "code",
   "execution_count": null,
   "metadata": {},
   "outputs": [],
   "source": [
    "bodied_df.desc.sample(1).values[0]"
   ]
  },
  {
   "cell_type": "code",
   "execution_count": null,
   "metadata": {},
   "outputs": [],
   "source": [
    "check_multilang(bodied_df.desc.sample(1).values[0]), bodied_df.desc.sample(1).values[0]"
   ]
  },
  {
   "cell_type": "code",
   "execution_count": null,
   "metadata": {},
   "outputs": [],
   "source": [
    "abstract_multilang = bodied_df.desc.apply(check_multilang)\n",
    "abstract_multilang"
   ]
  },
  {
   "cell_type": "code",
   "execution_count": null,
   "metadata": {},
   "outputs": [],
   "source": [
    "bodied_df[abstract_multilang == True]"
   ]
  },
  {
   "cell_type": "code",
   "execution_count": null,
   "metadata": {},
   "outputs": [],
   "source": [
    "bodied_df[abstract_multilang == True]['desc'].sample(1).values[0]"
   ]
  },
  {
   "cell_type": "code",
   "execution_count": null,
   "metadata": {},
   "outputs": [],
   "source": [
    "bodied_df['multi_lang'] = abstract_multilang\n",
    "bodied_df"
   ]
  }
 ],
 "metadata": {
  "kernelspec": {
   "display_name": ".venv",
   "language": "python",
   "name": "python3"
  },
  "language_info": {
   "codemirror_mode": {
    "name": "ipython",
    "version": 3
   },
   "file_extension": ".py",
   "mimetype": "text/x-python",
   "name": "python",
   "nbconvert_exporter": "python",
   "pygments_lexer": "ipython3",
   "version": "3.9.2"
  }
 },
 "nbformat": 4,
 "nbformat_minor": 2
}
